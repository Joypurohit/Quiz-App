{
 "cells": [
  {
   "cell_type": "code",
   "execution_count": null,
   "metadata": {},
   "outputs": [],
   "source": [
    "import tkinter as tk\n",
    "from tkinter import *\n",
    "def loginPage():\n",
    "    login = Tk()\n",
    "    login_canvas = Canvas(login,width=720,height=440,bg=\"#101357\")\n",
    "    login_canvas.pack()\n",
    "\n",
    "    login_frame = Frame(login_canvas,bg=\"white\")\n",
    "    login_frame.place(relwidth=0.8,relheight=0.8,relx=0.1,rely=0.1)\n",
    "\n",
    "    heading = Label(login_frame,text=\"Quiz App Login\",fg=\"black\",bg=\"white\")\n",
    "    heading.config(font=('calibri 40'))\n",
    "    heading.place(relx=0.2,rely=0.1)\n",
    "\n",
    "    ulabel = Label(login_frame,text=\"Username\",fg='black',bg='white')\n",
    "    ulabel.place(relx=0.21,rely=0.4)\n",
    "    uname = Entry(login_frame,bg='#d3d3d3',fg='white')\n",
    "    uname.config(width=42)\n",
    "    uname.place(relx=0.31,rely=0.4)\n",
    "\n",
    "    plabel = Label(login_frame,text=\"Password\",fg='black',bg='white')\n",
    "    plabel.place(relx=0.215,rely=0.5)\n",
    "    pas = Entry(login_frame,bg='#d3d3d3',fg='white')\n",
    "    pas.config(width=42)\n",
    "    pas.place(relx=0.31,rely=0.5)\n",
    "\n",
    "    log = Button(login_frame,text='Login',padx=5,pady=5,width=5,command=menu)\n",
    "    log.configure(width = 15,height=1, activebackground = \"#33B5E5\", relief = FLAT)\n",
    "    log.place(relx=0.4,rely=0.6)\n",
    "\n",
    "    login.mainloop()\n",
    "    \n",
    "def menu():\n",
    "    s = Tk()\n",
    "    img = PhotoImage(file=\"output-onlinepngtools.png\")\n",
    "    wel = Label(s,text='WELCOME TO QUIZ STATION',fg=\"red\") \n",
    "    wel.config(font=('storm 35'),relief=RAISED)\n",
    "    wel.grid(column = 0 , row = 0)\n",
    "    s.mainloop()\n",
    "    \n",
    "def start():\n",
    "    root = Tk()\n",
    "    canvas = Canvas(root,width = 720,height = 440, bg = 'yellow')\n",
    "    canvas.grid(column = 0 , row = 1)\n",
    "    img = PhotoImage(file=\"output-onlinepngtools.png\")\n",
    "    canvas.create_image(50,10,image=img,anchor=NW)\n",
    "\n",
    "    button = Button(root, text='Start',command = loginPage) \n",
    "    button.configure(width = 102,height=2, activebackground = \"#33B5E5\", relief = RAISED)\n",
    "    button.grid(column = 0 , row = 2)\n",
    "\n",
    "    root.mainloop()\n",
    "    \n",
    "if __name__=='__main__':\n",
    "    start()"
   ]
  }
 ],
 "metadata": {
  "kernelspec": {
   "display_name": "Python 3",
   "language": "python",
   "name": "python3"
  },
  "language_info": {
   "codemirror_mode": {
    "name": "ipython",
    "version": 3
   },
   "file_extension": ".py",
   "mimetype": "text/x-python",
   "name": "python",
   "nbconvert_exporter": "python",
   "pygments_lexer": "ipython3",
   "version": "3.7.0"
  }
 },
 "nbformat": 4,
 "nbformat_minor": 2
}
